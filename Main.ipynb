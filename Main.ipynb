{
 "cells": [
  {
   "cell_type": "code",
   "execution_count": null,
   "outputs": [],
   "source": [
    "from sklearn.model_selection import train_test_split\n",
    "import tensorflow as tf\n",
    "import numpy as np\n",
    "import pandas as pd"
   ],
   "metadata": {
    "collapsed": false,
    "pycharm": {
     "name": "#%% Imports\n"
    }
   }
  },
  {
   "cell_type": "code",
   "execution_count": null,
   "outputs": [],
   "source": [
    "def norm(array):\n",
    "   return array/9\n",
    "\n",
    "def invNorm(array):\n",
    "   return 9*array"
   ],
   "metadata": {
    "collapsed": false,
    "pycharm": {
     "name": "#%% Helper Functions\n"
    }
   }
  },
  {
   "cell_type": "code",
   "execution_count": null,
   "outputs": [],
   "source": [
    "games = pd.read_csv(\"./data/sudoku.csv\")\n",
    "\n",
    "quizzes = games['quizzes']\n",
    "solutions = games['solutions']\n",
    "\n",
    "features = []\n",
    "labels = []\n",
    "\n",
    "for i in range(int(len(quizzes)/1)):\n",
    "   temp_arr = [norm(int(char)) for char in quizzes[i]]\n",
    "   features.append(np.array(temp_arr).reshape((9,9,1)))\n",
    "\n",
    "   if(i%200000==0):\n",
    "       print(str(i/20000) + \"%\")\n",
    "\n",
    "\n",
    "\n",
    "#We represent a 1 as label 0, 2 as label 1, etc.\n",
    "\n",
    "for i in range(int(len(solutions)/1)):\n",
    "   temp_arr = [(int(char)-1) for char in solutions[i]]\n",
    "   labels.append(np.array(temp_arr).reshape((81,1)))\n",
    "   if(i%200000==0):\n",
    "       print(str(i/20000 +50)+ \"%\")\n",
    "\n",
    "\n",
    "features = np.array(features)\n",
    "labels = np.array(labels)\n",
    "print(\"100%\")\n",
    "x_train, x_test, y_train, y_test = train_test_split(features, labels, test_size=0.2)"
   ],
   "metadata": {
    "collapsed": false,
    "pycharm": {
     "name": "#%% Processing Data\n"
    }
   }
  },
  {
   "cell_type": "code",
   "execution_count": null,
   "outputs": [],
   "source": [
    "\n"
   ],
   "metadata": {
    "collapsed": false,
    "pycharm": {
     "name": "#%% Creating and compiling Model\n"
    }
   }
  },
  {
   "cell_type": "code",
   "execution_count": null,
   "outputs": [],
   "source": [
    "print(\"End\")\n",
    "\n",
    "\n",
    "\n"
   ],
   "metadata": {
    "collapsed": false,
    "pycharm": {
     "name": "#%% End\n"
    }
   }
  }
 ],
 "metadata": {
  "kernelspec": {
   "display_name": "Python 3",
   "language": "python",
   "name": "python3"
  },
  "language_info": {
   "codemirror_mode": {
    "name": "ipython",
    "version": 2
   },
   "file_extension": ".py",
   "mimetype": "text/x-python",
   "name": "python",
   "nbconvert_exporter": "python",
   "pygments_lexer": "ipython2",
   "version": "2.7.6"
  }
 },
 "nbformat": 4,
 "nbformat_minor": 0
}